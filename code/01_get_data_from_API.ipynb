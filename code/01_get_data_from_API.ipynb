{
 "cells": [
  {
   "cell_type": "code",
   "execution_count": 28,
   "metadata": {},
   "outputs": [],
   "source": [
    "#Download Kaggle API\n",
    "import kaggle\n",
    "\n",
    "#Download file management\n",
    "import os\n",
    "import subprocess\n"
   ]
  },
  {
   "cell_type": "markdown",
   "metadata": {},
   "source": [
    "# Data Folder "
   ]
  },
  {
   "cell_type": "code",
   "execution_count": 5,
   "metadata": {},
   "outputs": [],
   "source": [
    "def generate_data_folder():\n",
    "    dir_name = '../data'\n",
    "    try:\n",
    "        # Create target Directory\n",
    "        os.mkdir(dir_name)\n",
    "        print(\"Directory \" , dir_name ,  \" Created \") \n",
    "    except FileExistsError:\n",
    "        print(\"Directory \" , dir_name ,  \" already exists\")\n",
    "    print(\"Change directory to extract all files\")\n",
    "    os.chdir('data')"
   ]
  },
  {
   "cell_type": "markdown",
   "metadata": {},
   "source": [
    "# List Competitions "
   ]
  },
  {
   "cell_type": "code",
   "execution_count": 16,
   "metadata": {},
   "outputs": [],
   "source": [
    "def list_Competitions():\n",
    "    !kaggle competitions list"
   ]
  },
  {
   "cell_type": "markdown",
   "metadata": {},
   "source": [
    "# Download Titanic "
   ]
  },
  {
   "cell_type": "code",
   "execution_count": 51,
   "metadata": {},
   "outputs": [],
   "source": [
    "def Download_Titanic():\n",
    "    !kaggle competitions files -c titanic\n",
    "    !kaggle competitions download -c titanic -f train.csv -p ../../../data\n",
    "    !kaggle competitions download -c titanic -f test.csv -p ../../../data\n",
    "    print(\"DONE\")"
   ]
  },
  {
   "cell_type": "code",
   "execution_count": 52,
   "metadata": {},
   "outputs": [
    {
     "name": "stdout",
     "output_type": "stream",
     "text": [
      "sh: 0: getcwd() failed: No such file or directory\n",
      "sh: 0: getcwd() failed: No such file or directory\n",
      "Warning: Looks like you're using an outdated API Version, please consider updating (server 1.5.0 / client 1.3.11.1)\n",
      "name                   size  creationDate         \n",
      "---------------------  ----  -------------------  \n",
      "train.csv              60KB  2013-06-28 13:40:25  \n",
      "test.csv               28KB  2013-06-28 13:40:24  \n",
      "gender_submission.csv   3KB  2017-02-01 01:49:18  \n",
      "sh: 0: getcwd() failed: No such file or directory\n",
      "sh: 0: getcwd() failed: No such file or directory\n",
      "Downloading train.csv to ../../../data\n",
      "  0%|                                               | 0.00/59.8k [00:00<?, ?B/s]\n",
      "100%|███████████████████████████████████████| 59.8k/59.8k [00:00<00:00, 787kB/s]\n",
      "sh: 0: getcwd() failed: No such file or directory\n",
      "sh: 0: getcwd() failed: No such file or directory\n",
      "Downloading test.csv to ../../../data\n",
      "  0%|                                               | 0.00/28.0k [00:00<?, ?B/s]\n",
      "100%|███████████████████████████████████████| 28.0k/28.0k [00:00<00:00, 811kB/s]\n",
      "DONE\n"
     ]
    }
   ],
   "source": [
    "Download_Titanic()"
   ]
  }
 ],
 "metadata": {
  "kernelspec": {
   "display_name": "Python 3",
   "language": "python",
   "name": "python3"
  },
  "language_info": {
   "codemirror_mode": {
    "name": "ipython",
    "version": 3
   },
   "file_extension": ".py",
   "mimetype": "text/x-python",
   "name": "python",
   "nbconvert_exporter": "python",
   "pygments_lexer": "ipython3",
   "version": "3.6.6"
  }
 },
 "nbformat": 4,
 "nbformat_minor": 2
}
